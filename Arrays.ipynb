{
 "cells": [
  {
   "cell_type": "code",
   "execution_count": 4,
   "id": "50887634-2ab4-42c9-bcd8-25c286e61763",
   "metadata": {},
   "outputs": [
    {
     "name": "stdout",
     "output_type": "stream",
     "text": [
      "Mon\n"
     ]
    }
   ],
   "source": [
    "days = ['Sun','Mon','Thu','Wen','Tus','Fri','Sat']\n",
    "print(days[1])"
   ]
  },
  {
   "cell_type": "code",
   "execution_count": 5,
   "id": "caedf442-05d8-44c2-b916-bb974e2eb9b8",
   "metadata": {},
   "outputs": [
    {
     "name": "stdout",
     "output_type": "stream",
     "text": [
      "['Mon', 'Thu', 'Wen', 'Tus', 'Fri']\n"
     ]
    }
   ],
   "source": [
    "workingdays = days[1:6]\n",
    "print(workingdays)"
   ]
  },
  {
   "cell_type": "code",
   "execution_count": 6,
   "id": "368ea2fd-4e41-4f37-9cde-2170eecea264",
   "metadata": {},
   "outputs": [
    {
     "name": "stdout",
     "output_type": "stream",
     "text": [
      "['Mon', 'Thu', 'Wen', 'Tus', 'Fri', 'Sat']\n"
     ]
    }
   ],
   "source": [
    "except_sun_days = days[1:]\n",
    "print(except_sun_days)"
   ]
  },
  {
   "cell_type": "code",
   "execution_count": 7,
   "id": "f633d59a-5efd-4c77-85cc-e76854866c6f",
   "metadata": {},
   "outputs": [
    {
     "name": "stdout",
     "output_type": "stream",
     "text": [
      "[1232, 'Test', 123.123, 'Sun', 'Mon', 'Thu', 'Wen', 'Tus', 'Fri', 'Sat']\n"
     ]
    }
   ],
   "source": [
    "data = [1232,\"Test\",123.123,'Sun','Mon','Thu','Wen','Tus','Fri','Sat']\n",
    "print(data)"
   ]
  },
  {
   "cell_type": "code",
   "execution_count": 8,
   "id": "36d0db85-337b-4c1a-b7ef-b61ba0fc86d0",
   "metadata": {},
   "outputs": [
    {
     "name": "stdout",
     "output_type": "stream",
     "text": [
      "['Sun', 'Mon', 'Thu', 'Wen', 'Tus', 'Fri', 'Sat']\n"
     ]
    }
   ],
   "source": [
    "days = data[3:]\n",
    "print(days)"
   ]
  },
  {
   "cell_type": "code",
   "execution_count": 10,
   "id": "033bf04f-2de9-43d4-aa19-0635704ba54b",
   "metadata": {},
   "outputs": [
    {
     "name": "stdout",
     "output_type": "stream",
     "text": [
      "['Sun', 'Mon', 'Thu', 'Wen', 'Tus', 'Fri', 'Sat']\n"
     ]
    }
   ],
   "source": [
    "data = ['Sun','Mon','Thu','Wen','Tus','Fri','Sat',1232,\"Test\",123.123]\n",
    "days = data[0:7]\n",
    "print(days)"
   ]
  },
  {
   "cell_type": "code",
   "execution_count": 11,
   "id": "bb3ba670-b21e-4fc4-ad48-f9a93ed6b3ac",
   "metadata": {},
   "outputs": [
    {
     "name": "stdout",
     "output_type": "stream",
     "text": [
      "['Sun', 'Mon', 'Thu', 'Wen', 'Tus', 'Fri', 'Sat']\n"
     ]
    }
   ],
   "source": [
    "days = data[:7]\n",
    "print(days)"
   ]
  },
  {
   "cell_type": "code",
   "execution_count": 12,
   "id": "0ba1d01b-6a8d-46e0-9f16-95ba777ca13e",
   "metadata": {},
   "outputs": [
    {
     "name": "stdout",
     "output_type": "stream",
     "text": [
      "123.123\n"
     ]
    }
   ],
   "source": [
    "print(data[-1])"
   ]
  },
  {
   "cell_type": "code",
   "execution_count": 13,
   "id": "bf38993f-9af6-4af9-a61d-be81e957310f",
   "metadata": {},
   "outputs": [
    {
     "name": "stdout",
     "output_type": "stream",
     "text": [
      "Sat\n"
     ]
    }
   ],
   "source": [
    "print(data[-4])"
   ]
  },
  {
   "cell_type": "code",
   "execution_count": 14,
   "id": "bc08f9b1-6cf7-4f8c-97bd-9063535dcf45",
   "metadata": {},
   "outputs": [
    {
     "name": "stdout",
     "output_type": "stream",
     "text": [
      "[]\n"
     ]
    }
   ],
   "source": [
    "print(data[-1:1])"
   ]
  },
  {
   "cell_type": "code",
   "execution_count": 16,
   "id": "6d1302f6-9f8a-49a9-922c-25872a2b60e4",
   "metadata": {},
   "outputs": [
    {
     "name": "stdout",
     "output_type": "stream",
     "text": [
      "123.123 Sun\n"
     ]
    }
   ],
   "source": [
    "print(data[-1],data[0])"
   ]
  },
  {
   "cell_type": "code",
   "execution_count": 18,
   "id": "7909f2fc-6691-4820-8326-5be09c1339c6",
   "metadata": {},
   "outputs": [
    {
     "name": "stdout",
     "output_type": "stream",
     "text": [
      "[]\n"
     ]
    }
   ],
   "source": [
    "print(data[-1:0])"
   ]
  },
  {
   "cell_type": "code",
   "execution_count": 28,
   "id": "130d2105-1ee0-4954-a8c6-4ef8c1328030",
   "metadata": {},
   "outputs": [
    {
     "name": "stdout",
     "output_type": "stream",
     "text": [
      "['Sun']\n"
     ]
    }
   ],
   "source": [
    "print(data[0:-1:10])"
   ]
  },
  {
   "cell_type": "code",
   "execution_count": 29,
   "id": "f4be736a-b645-4ec8-8b0d-2007f6607286",
   "metadata": {},
   "outputs": [],
   "source": [
    "data = ['Sun','Mon','Thu','Wen','Tus','Fri','Sat',1232,\"Test\",123.123]"
   ]
  },
  {
   "cell_type": "code",
   "execution_count": 30,
   "id": "894c239c-a780-48e3-af1d-e29431fda054",
   "metadata": {},
   "outputs": [
    {
     "data": {
      "text/plain": [
       "10"
      ]
     },
     "execution_count": 30,
     "metadata": {},
     "output_type": "execute_result"
    }
   ],
   "source": [
    "len(data)"
   ]
  },
  {
   "cell_type": "code",
   "execution_count": 31,
   "id": "e2facba1-1572-47f9-803f-8ac47e15112e",
   "metadata": {},
   "outputs": [
    {
     "ename": "IndexError",
     "evalue": "list assignment index out of range",
     "output_type": "error",
     "traceback": [
      "\u001b[1;31m---------------------------------------------------------------------------\u001b[0m",
      "\u001b[1;31mIndexError\u001b[0m                                Traceback (most recent call last)",
      "Cell \u001b[1;32mIn[31], line 1\u001b[0m\n\u001b[1;32m----> 1\u001b[0m \u001b[43mdata\u001b[49m\u001b[43m[\u001b[49m\u001b[38;5;241;43m10\u001b[39;49m\u001b[43m]\u001b[49m \u001b[38;5;241m=\u001b[39m \u001b[38;5;124m\"\u001b[39m\u001b[38;5;124mname\u001b[39m\u001b[38;5;124m\"\u001b[39m\n",
      "\u001b[1;31mIndexError\u001b[0m: list assignment index out of range"
     ]
    }
   ],
   "source": [
    "data[10] = \"name\""
   ]
  },
  {
   "cell_type": "code",
   "execution_count": 32,
   "id": "2e4aff51-be19-4a9f-94b6-c75a1d3c5565",
   "metadata": {},
   "outputs": [],
   "source": [
    "data.append(\"name\")"
   ]
  },
  {
   "cell_type": "code",
   "execution_count": 33,
   "id": "bd917b4a-817a-466a-bf01-b7b7d89e98b5",
   "metadata": {},
   "outputs": [
    {
     "name": "stdout",
     "output_type": "stream",
     "text": [
      "['Sun', 'Mon', 'Thu', 'Wen', 'Tus', 'Fri', 'Sat', 1232, 'Test', 123.123, 'name']\n"
     ]
    }
   ],
   "source": [
    "print(data)"
   ]
  },
  {
   "cell_type": "code",
   "execution_count": 34,
   "id": "0a751252-b5ec-46ce-86c2-da9ffbae2d29",
   "metadata": {},
   "outputs": [],
   "source": [
    "data.append(\"name\")"
   ]
  },
  {
   "cell_type": "code",
   "execution_count": 35,
   "id": "91d0d87d-00e9-4e99-86fb-612f9acd7e3a",
   "metadata": {},
   "outputs": [
    {
     "name": "stdout",
     "output_type": "stream",
     "text": [
      "['Sun', 'Mon', 'Thu', 'Wen', 'Tus', 'Fri', 'Sat', 1232, 'Test', 123.123, 'name', 'name']\n"
     ]
    }
   ],
   "source": [
    "print(data)"
   ]
  },
  {
   "cell_type": "code",
   "execution_count": 36,
   "id": "c09b7494-6eb5-4e10-96fa-c991a54e6ec5",
   "metadata": {},
   "outputs": [],
   "source": [
    "data.remove(\"name\")"
   ]
  },
  {
   "cell_type": "code",
   "execution_count": 37,
   "id": "ada5638b-55dd-43d3-898b-675ebc7f5dae",
   "metadata": {},
   "outputs": [
    {
     "name": "stdout",
     "output_type": "stream",
     "text": [
      "['Sun', 'Mon', 'Thu', 'Wen', 'Tus', 'Fri', 'Sat', 1232, 'Test', 123.123, 'name']\n"
     ]
    }
   ],
   "source": [
    "print(data)"
   ]
  },
  {
   "cell_type": "code",
   "execution_count": 38,
   "id": "b24a0c70-4300-484b-a2e2-621e25097496",
   "metadata": {},
   "outputs": [],
   "source": [
    "data.remove(\"name\")"
   ]
  },
  {
   "cell_type": "code",
   "execution_count": 39,
   "id": "03ae4476-ae8d-460c-a535-f142b9e30764",
   "metadata": {},
   "outputs": [
    {
     "name": "stdout",
     "output_type": "stream",
     "text": [
      "['Sun', 'Mon', 'Thu', 'Wen', 'Tus', 'Fri', 'Sat', 1232, 'Test', 123.123]\n"
     ]
    }
   ],
   "source": [
    "print(data)"
   ]
  },
  {
   "cell_type": "code",
   "execution_count": 40,
   "id": "e56a12f4-c2d1-4a02-bd44-a9c4510ed09c",
   "metadata": {},
   "outputs": [
    {
     "ename": "IndexError",
     "evalue": "pop index out of range",
     "output_type": "error",
     "traceback": [
      "\u001b[1;31m---------------------------------------------------------------------------\u001b[0m",
      "\u001b[1;31mIndexError\u001b[0m                                Traceback (most recent call last)",
      "Cell \u001b[1;32mIn[40], line 1\u001b[0m\n\u001b[1;32m----> 1\u001b[0m \u001b[43mdata\u001b[49m\u001b[38;5;241;43m.\u001b[39;49m\u001b[43mpop\u001b[49m\u001b[43m(\u001b[49m\u001b[38;5;241;43m1232\u001b[39;49m\u001b[43m)\u001b[49m\n",
      "\u001b[1;31mIndexError\u001b[0m: pop index out of range"
     ]
    }
   ],
   "source": [
    "data.pop(1232)"
   ]
  },
  {
   "cell_type": "code",
   "execution_count": 41,
   "id": "4f46edad-2ea1-494b-b041-9eae5a0e3469",
   "metadata": {},
   "outputs": [
    {
     "data": {
      "text/plain": [
       "1232"
      ]
     },
     "execution_count": 41,
     "metadata": {},
     "output_type": "execute_result"
    }
   ],
   "source": [
    "data.pop(7)"
   ]
  },
  {
   "cell_type": "code",
   "execution_count": 42,
   "id": "77372456-9531-41bc-afee-e220c2d2e4c5",
   "metadata": {},
   "outputs": [
    {
     "name": "stdout",
     "output_type": "stream",
     "text": [
      "['Sun', 'Mon', 'Thu', 'Wen', 'Tus', 'Fri', 'Sat', 'Test', 123.123]\n"
     ]
    }
   ],
   "source": [
    "print(data)"
   ]
  },
  {
   "cell_type": "code",
   "execution_count": 43,
   "id": "203b8183-f0b8-4774-b5f0-fc63c95ee991",
   "metadata": {},
   "outputs": [
    {
     "data": {
      "text/plain": [
       "123.123"
      ]
     },
     "execution_count": 43,
     "metadata": {},
     "output_type": "execute_result"
    }
   ],
   "source": [
    "data.pop()"
   ]
  },
  {
   "cell_type": "code",
   "execution_count": 44,
   "id": "0417fb19-9b43-4ed6-8651-7f08cbb48693",
   "metadata": {},
   "outputs": [
    {
     "name": "stdout",
     "output_type": "stream",
     "text": [
      "['Sun', 'Mon', 'Thu', 'Wen', 'Tus', 'Fri', 'Sat', 'Test']\n"
     ]
    }
   ],
   "source": [
    "print(data)"
   ]
  },
  {
   "cell_type": "code",
   "execution_count": 45,
   "id": "eab58f11-61af-409c-84e4-2a3c88612d51",
   "metadata": {},
   "outputs": [],
   "source": [
    "data.remove('Mon')"
   ]
  },
  {
   "cell_type": "code",
   "execution_count": 46,
   "id": "d9311f7b-7270-4e00-ad45-c78d4f2f70d8",
   "metadata": {},
   "outputs": [
    {
     "name": "stdout",
     "output_type": "stream",
     "text": [
      "['Sun', 'Thu', 'Wen', 'Tus', 'Fri', 'Sat', 'Test']\n"
     ]
    }
   ],
   "source": [
    "print(data)"
   ]
  },
  {
   "cell_type": "code",
   "execution_count": 47,
   "id": "ed2a704f-6dd0-4b52-bd40-8061ebe6de80",
   "metadata": {},
   "outputs": [
    {
     "data": {
      "text/plain": [
       "'Test'"
      ]
     },
     "execution_count": 47,
     "metadata": {},
     "output_type": "execute_result"
    }
   ],
   "source": [
    "data.pop()"
   ]
  },
  {
   "cell_type": "code",
   "execution_count": 48,
   "id": "d73512f3-a9a8-405a-8d7e-96932cfd2292",
   "metadata": {},
   "outputs": [
    {
     "data": {
      "text/plain": [
       "['Sun', 'Thu', 'Wen', 'Tus', 'Fri', 'Sat']"
      ]
     },
     "execution_count": 48,
     "metadata": {},
     "output_type": "execute_result"
    }
   ],
   "source": [
    "data"
   ]
  },
  {
   "cell_type": "code",
   "execution_count": 49,
   "id": "d7486d54-6745-45b3-902a-8f4c4759e2df",
   "metadata": {},
   "outputs": [],
   "source": [
    "data.insert(1,'Mon')"
   ]
  },
  {
   "cell_type": "code",
   "execution_count": 50,
   "id": "0bbc36c2-cace-4df0-9292-509cfa75abce",
   "metadata": {},
   "outputs": [
    {
     "data": {
      "text/plain": [
       "['Sun', 'Mon', 'Thu', 'Wen', 'Tus', 'Fri', 'Sat']"
      ]
     },
     "execution_count": 50,
     "metadata": {},
     "output_type": "execute_result"
    }
   ],
   "source": [
    "data"
   ]
  },
  {
   "cell_type": "code",
   "execution_count": 52,
   "id": "ae403bc6-0e2c-4c3f-ba01-3bd786d9441b",
   "metadata": {},
   "outputs": [
    {
     "data": {
      "text/plain": [
       "1"
      ]
     },
     "execution_count": 52,
     "metadata": {},
     "output_type": "execute_result"
    }
   ],
   "source": [
    "data.index('Mon')"
   ]
  },
  {
   "cell_type": "code",
   "execution_count": 53,
   "id": "9338ebc7-b3a3-4d87-8aeb-07454e0c9d2a",
   "metadata": {},
   "outputs": [
    {
     "data": {
      "text/plain": [
       "'Mon'"
      ]
     },
     "execution_count": 53,
     "metadata": {},
     "output_type": "execute_result"
    }
   ],
   "source": [
    "data.pop(data.index('Mon'))"
   ]
  },
  {
   "cell_type": "code",
   "execution_count": 54,
   "id": "7f2793c6-1ebf-4034-853b-6b6391cab10f",
   "metadata": {},
   "outputs": [
    {
     "data": {
      "text/plain": [
       "['Sun', 'Thu', 'Wen', 'Tus', 'Fri', 'Sat']"
      ]
     },
     "execution_count": 54,
     "metadata": {},
     "output_type": "execute_result"
    }
   ],
   "source": [
    "data"
   ]
  },
  {
   "cell_type": "code",
   "execution_count": null,
   "id": "a4ac5a5f-64a0-4c17-94a5-3f6204a0a8eb",
   "metadata": {},
   "outputs": [],
   "source": []
  }
 ],
 "metadata": {
  "kernelspec": {
   "display_name": "Python 3 (ipykernel)",
   "language": "python",
   "name": "python3"
  },
  "language_info": {
   "codemirror_mode": {
    "name": "ipython",
    "version": 3
   },
   "file_extension": ".py",
   "mimetype": "text/x-python",
   "name": "python",
   "nbconvert_exporter": "python",
   "pygments_lexer": "ipython3",
   "version": "3.12.1"
  }
 },
 "nbformat": 4,
 "nbformat_minor": 5
}
