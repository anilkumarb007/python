{
 "cells": [
  {
   "cell_type": "code",
   "execution_count": 1,
   "id": "baff0236-b2d0-4ffd-8329-d5b6f4d35a4d",
   "metadata": {},
   "outputs": [
    {
     "name": "stdout",
     "output_type": "stream",
     "text": [
      "<built-in function id>\n"
     ]
    }
   ],
   "source": [
    "Id=None\n",
    "print(id)"
   ]
  },
  {
   "cell_type": "code",
   "execution_count": 2,
   "id": "aa36ca3f-4f9d-4712-a806-dcf6c8ab636b",
   "metadata": {},
   "outputs": [
    {
     "name": "stdout",
     "output_type": "stream",
     "text": [
      "None\n"
     ]
    }
   ],
   "source": [
    "print(Id)"
   ]
  },
  {
   "cell_type": "code",
   "execution_count": 17,
   "id": "1d752080-02a2-45cb-b0b1-0af05c4eb8dd",
   "metadata": {},
   "outputs": [],
   "source": [
    "# get function is used to get the employee details\n",
    "\"\"\" and this function return or\n",
    "    output the None value\n",
    "\"\"\"\n",
    "'''and this function return or output the None value'''\n",
    "def getDetails():\n",
    "        employeeName = \"Anil\"\n",
    "        employeeAge = \"23\"\n",
    "        employeeDetails = \"Name : \" + employeeName + \", Age :\"+ employeeAge"
   ]
  },
  {
   "cell_type": "code",
   "execution_count": 7,
   "id": "46248a3e-a74d-4c54-99a6-04048d5aeb81",
   "metadata": {},
   "outputs": [
    {
     "name": "stdout",
     "output_type": "stream",
     "text": [
      "None\n"
     ]
    }
   ],
   "source": [
    "print(getEmployeeDetails())"
   ]
  },
  {
   "cell_type": "code",
   "execution_count": 3,
   "id": "6d5a851b-2692-4180-86c7-e7c19ab128c8",
   "metadata": {},
   "outputs": [],
   "source": [
    "employeeAge = 25 # int datatype \n",
    "employeeIq = 4.5 # float datatype\n",
    "mathCalcuateOnEmployee = 1 + 3j # complex datatype"
   ]
  },
  {
   "cell_type": "code",
   "execution_count": 19,
   "id": "e0807f73-0989-4370-a1f7-9a7f9da0633d",
   "metadata": {},
   "outputs": [
    {
     "name": "stdout",
     "output_type": "stream",
     "text": [
      "None\n"
     ]
    }
   ],
   "source": [
    "print(getDetails())"
   ]
  },
  {
   "cell_type": "code",
   "execution_count": 21,
   "id": "968e4951-f4d3-4289-b3aa-e0e2d104ed8b",
   "metadata": {},
   "outputs": [
    {
     "name": "stdout",
     "output_type": "stream",
     "text": [
      "<class 'int'>\n"
     ]
    }
   ],
   "source": [
    "print(type(employeeAge))"
   ]
  },
  {
   "cell_type": "code",
   "execution_count": 22,
   "id": "5d8414b7-4cc0-4588-871e-40410d8816d1",
   "metadata": {},
   "outputs": [
    {
     "name": "stdout",
     "output_type": "stream",
     "text": [
      "<class 'float'>\n"
     ]
    }
   ],
   "source": [
    "print(type(employeeIq))"
   ]
  },
  {
   "cell_type": "code",
   "execution_count": 23,
   "id": "8368ff49-1113-4157-87d8-b13f4fdaf1ec",
   "metadata": {},
   "outputs": [
    {
     "name": "stdout",
     "output_type": "stream",
     "text": [
      "<class 'complex'>\n"
     ]
    }
   ],
   "source": [
    "print(type(mathCalcuateOnEmployee))"
   ]
  },
  {
   "cell_type": "code",
   "execution_count": 24,
   "id": "738916f9-2351-48f8-a10b-ee930b9969b6",
   "metadata": {},
   "outputs": [
    {
     "name": "stdout",
     "output_type": "stream",
     "text": [
      "<class 'NoneType'>\n"
     ]
    }
   ],
   "source": [
    "print(type(getDetails()))"
   ]
  },
  {
   "cell_type": "code",
   "execution_count": 1,
   "id": "6e6ba471-641b-4930-b385-6de225b5aeb4",
   "metadata": {},
   "outputs": [
    {
     "name": "stdout",
     "output_type": "stream",
     "text": [
      "Srinu\n"
     ]
    }
   ],
   "source": [
    "employeeName = 'Srinu'\n",
    "print(employeeName)"
   ]
  },
  {
   "cell_type": "code",
   "execution_count": 2,
   "id": "aa67b519-75aa-4748-b75e-801264d424d6",
   "metadata": {},
   "outputs": [
    {
     "name": "stdout",
     "output_type": "stream",
     "text": [
      "As a developer, I have been working in It from 8 years and know languages are Java, Python, R for backend\n"
     ]
    }
   ],
   "source": [
    "employeeProfileInfo = \"\"\"As a developer, I have been working in It from 8 years and know languages are Java, Python, R for backend\"\"\"\n",
    "print(employeeProfileInfo)\n"
   ]
  },
  {
   "cell_type": "code",
   "execution_count": 4,
   "id": "c9bec744-ba3d-4e64-8a78-8a5778676b68",
   "metadata": {},
   "outputs": [
    {
     "ename": "TypeError",
     "evalue": "can only concatenate str (not \"int\") to str",
     "output_type": "error",
     "traceback": [
      "\u001b[1;31m---------------------------------------------------------------------------\u001b[0m",
      "\u001b[1;31mTypeError\u001b[0m                                 Traceback (most recent call last)",
      "Cell \u001b[1;32mIn[4], line 1\u001b[0m\n\u001b[1;32m----> 1\u001b[0m \u001b[38;5;28mprint\u001b[39m(\u001b[38;5;124;43m\"\u001b[39;49m\u001b[38;5;124;43mEmployee details: \u001b[39;49m\u001b[38;5;130;43;01m\\n\u001b[39;49;00m\u001b[38;5;124;43m employee name: \u001b[39;49m\u001b[38;5;124;43m\"\u001b[39;49m\u001b[38;5;241;43m+\u001b[39;49m\u001b[43m \u001b[49m\u001b[43memployeeName\u001b[49m\u001b[43m \u001b[49m\u001b[38;5;241;43m+\u001b[39;49m\u001b[38;5;124;43m\"\u001b[39;49m\u001b[38;5;130;43;01m\\n\u001b[39;49;00m\u001b[38;5;124;43m employee age: \u001b[39;49m\u001b[38;5;124;43m\"\u001b[39;49m\u001b[38;5;241;43m+\u001b[39;49m\u001b[43m \u001b[49m\u001b[43memployeeAge\u001b[49m)\n",
      "\u001b[1;31mTypeError\u001b[0m: can only concatenate str (not \"int\") to str"
     ]
    }
   ],
   "source": [
    "print(\"Employee details: \\n employee name: \"+ employeeName +\"\\n employee age: \"+ employeeAge)"
   ]
  },
  {
   "cell_type": "code",
   "execution_count": 5,
   "id": "5b5be838-d3a6-47f3-b1d9-63f156283203",
   "metadata": {},
   "outputs": [
    {
     "name": "stdout",
     "output_type": "stream",
     "text": [
      "Employee details: \n",
      " employee name: Srinu\n",
      " employee age: 25\n"
     ]
    }
   ],
   "source": [
    "print(\"Employee details: \\n employee name: \"+ employeeName +\"\\n employee age: \"+ str(employeeAge))"
   ]
  },
  {
   "cell_type": "code",
   "execution_count": 6,
   "id": "add402d7-d97c-4a62-8bf7-ff916c50680e",
   "metadata": {},
   "outputs": [
    {
     "ename": "SyntaxError",
     "evalue": "incomplete input (2775024768.py, line 1)",
     "output_type": "error",
     "traceback": [
      "\u001b[1;36m  Cell \u001b[1;32mIn[6], line 1\u001b[1;36m\u001b[0m\n\u001b[1;33m    employeeAdress = ''' lig-731, Don't know other details\"\"\"\u001b[0m\n\u001b[1;37m                     ^\u001b[0m\n\u001b[1;31mSyntaxError\u001b[0m\u001b[1;31m:\u001b[0m incomplete input\n"
     ]
    }
   ],
   "source": [
    "employeeAdress = ''' lig-731, Don't know other details\"\"\"\n",
    "print(employeeAdress)"
   ]
  },
  {
   "cell_type": "code",
   "execution_count": 7,
   "id": "4639e762-58a6-4305-afa2-d64142cc91c7",
   "metadata": {},
   "outputs": [
    {
     "name": "stdout",
     "output_type": "stream",
     "text": [
      " lig-731, Don't know other details \n"
     ]
    }
   ],
   "source": [
    "employeeAdress = ''' lig-731, Don't know other details '''\n",
    "print(employeeAdress)"
   ]
  },
  {
   "cell_type": "code",
   "execution_count": 8,
   "id": "8f85e0d6-5df5-4da1-b60c-b55330753303",
   "metadata": {},
   "outputs": [
    {
     "ename": "SyntaxError",
     "evalue": "unterminated string literal (detected at line 1) (1138046803.py, line 1)",
     "output_type": "error",
     "traceback": [
      "\u001b[1;36m  Cell \u001b[1;32mIn[8], line 1\u001b[1;36m\u001b[0m\n\u001b[1;33m    employeeAdress = ' lig-731, Don't know other details '\u001b[0m\n\u001b[1;37m                                                         ^\u001b[0m\n\u001b[1;31mSyntaxError\u001b[0m\u001b[1;31m:\u001b[0m unterminated string literal (detected at line 1)\n"
     ]
    }
   ],
   "source": [
    "employeeAdress = ' lig-731, Don't know other details '\n",
    "print(employeeAdress)"
   ]
  },
  {
   "cell_type": "code",
   "execution_count": 9,
   "id": "5918d271-27b9-4920-a2a6-a01ba71a05b3",
   "metadata": {},
   "outputs": [
    {
     "name": "stdout",
     "output_type": "stream",
     "text": [
      " lig-731, Don't know other details \n"
     ]
    }
   ],
   "source": [
    "employeeAdress = ' lig-731, Don\\'t know other details '\n",
    "print(employeeAdress)"
   ]
  },
  {
   "cell_type": "code",
   "execution_count": 10,
   "id": "cc22e735-c248-4744-9fe8-da180eea890e",
   "metadata": {},
   "outputs": [
    {
     "name": "stdout",
     "output_type": "stream",
     "text": [
      " lig-731, Don't know other details \n"
     ]
    }
   ],
   "source": [
    "print(employeeAdress)"
   ]
  },
  {
   "cell_type": "code",
   "execution_count": 11,
   "id": "d44e31f6-018e-4336-90d3-20858fa48c9f",
   "metadata": {},
   "outputs": [
    {
     "name": "stdout",
     "output_type": "stream",
     "text": [
      "<class 'str'>\n"
     ]
    }
   ],
   "source": [
    "print(type(employeeAdress))"
   ]
  },
  {
   "cell_type": "code",
   "execution_count": 13,
   "id": "0184b659-ba95-4de5-ac08-ff8764012e58",
   "metadata": {},
   "outputs": [
    {
     "name": "stdout",
     "output_type": "stream",
     "text": [
      "['Ram', 'Hari', 'Srinu']\n"
     ]
    }
   ],
   "source": [
    "employeeNames = ['Ram', 'Hari', 'Srinu']\n",
    "print(employeeNames)"
   ]
  },
  {
   "cell_type": "code",
   "execution_count": 14,
   "id": "ea538bd9-f888-4885-807b-bd5b1eec6549",
   "metadata": {},
   "outputs": [
    {
     "data": {
      "text/plain": [
       "'Ram'"
      ]
     },
     "execution_count": 14,
     "metadata": {},
     "output_type": "execute_result"
    }
   ],
   "source": [
    "employeeNames[0]"
   ]
  },
  {
   "cell_type": "code",
   "execution_count": 15,
   "id": "0e2f0978-d9cb-453e-9fdf-178eae6002f4",
   "metadata": {},
   "outputs": [],
   "source": [
    "employeeNames[0] = 1000"
   ]
  },
  {
   "cell_type": "code",
   "execution_count": 16,
   "id": "23c9bc63-977a-473d-9e80-d627262e8d6e",
   "metadata": {},
   "outputs": [
    {
     "name": "stdout",
     "output_type": "stream",
     "text": [
      "[1000, 'Hari', 'Srinu']\n"
     ]
    }
   ],
   "source": [
    "print(employeeNames)"
   ]
  },
  {
   "cell_type": "code",
   "execution_count": 1,
   "id": "93f10004-6996-430c-831e-d4f4ce22a4f8",
   "metadata": {},
   "outputs": [
    {
     "name": "stdout",
     "output_type": "stream",
     "text": [
      "('Ram', 250000, 'Hari', 250000)\n"
     ]
    }
   ],
   "source": [
    "employeeWithSalary = (\"Ram\",250000, \"Hari\",250000)\n",
    "print(employeeWithSalary)"
   ]
  },
  {
   "cell_type": "code",
   "execution_count": 2,
   "id": "78ed443b-7fff-48cf-a7a4-aaaff841968f",
   "metadata": {},
   "outputs": [
    {
     "ename": "TypeError",
     "evalue": "'tuple' object does not support item assignment",
     "output_type": "error",
     "traceback": [
      "\u001b[1;31m---------------------------------------------------------------------------\u001b[0m",
      "\u001b[1;31mTypeError\u001b[0m                                 Traceback (most recent call last)",
      "Cell \u001b[1;32mIn[2], line 1\u001b[0m\n\u001b[1;32m----> 1\u001b[0m \u001b[43memployeeWithSalary\u001b[49m\u001b[43m[\u001b[49m\u001b[38;5;241;43m2\u001b[39;49m\u001b[43m]\u001b[49m \u001b[38;5;241m=\u001b[39m \u001b[38;5;124m\"\u001b[39m\u001b[38;5;124mHari Kumar\u001b[39m\u001b[38;5;124m\"\u001b[39m\n",
      "\u001b[1;31mTypeError\u001b[0m: 'tuple' object does not support item assignment"
     ]
    }
   ],
   "source": [
    "employeeWithSalary[2] = \"Hari Kumar\""
   ]
  },
  {
   "cell_type": "code",
   "execution_count": 3,
   "id": "2490ee3e-836a-42c2-8593-e1c790c7bb8a",
   "metadata": {},
   "outputs": [
    {
     "ename": "IndentationError",
     "evalue": "expected an indented block after 'for' statement on line 2 (3537201778.py, line 3)",
     "output_type": "error",
     "traceback": [
      "\u001b[1;36m  Cell \u001b[1;32mIn[3], line 3\u001b[1;36m\u001b[0m\n\u001b[1;33m    print(employeeNumber)\u001b[0m\n\u001b[1;37m    ^\u001b[0m\n\u001b[1;31mIndentationError\u001b[0m\u001b[1;31m:\u001b[0m expected an indented block after 'for' statement on line 2\n"
     ]
    }
   ],
   "source": [
    "maxEmployeeSequence  = range(10)\n",
    "for employeeNumber in maxEmployeeSequence :\n",
    "print(employeeNumber)"
   ]
  },
  {
   "cell_type": "code",
   "execution_count": 4,
   "id": "bb46535f-ed51-4124-87ae-2e4616444712",
   "metadata": {},
   "outputs": [
    {
     "name": "stdout",
     "output_type": "stream",
     "text": [
      "0\n",
      "1\n",
      "2\n",
      "3\n",
      "4\n",
      "5\n",
      "6\n",
      "7\n",
      "8\n",
      "9\n"
     ]
    }
   ],
   "source": [
    "maxEmployeeSequence  = range(10)\n",
    "for employeeNumber in maxEmployeeSequence :\n",
    "    print(employeeNumber)"
   ]
  },
  {
   "cell_type": "code",
   "execution_count": 6,
   "id": "3ccc5ae8-17b9-4243-904b-726789a3bd4d",
   "metadata": {},
   "outputs": [
    {
     "name": "stdout",
     "output_type": "stream",
     "text": [
      "1\n",
      "3\n",
      "5\n",
      "7\n",
      "9\n"
     ]
    }
   ],
   "source": [
    "maxEmployeeSequence  = range(1, 10, 2)\n",
    "for employeeNumber in maxEmployeeSequence :\n",
    "    print(employeeNumber)"
   ]
  },
  {
   "cell_type": "code",
   "execution_count": 8,
   "id": "2ef8f735-236c-415e-b6ac-f8694e0c1253",
   "metadata": {},
   "outputs": [
    {
     "name": "stdout",
     "output_type": "stream",
     "text": [
      "{80, 50, 100, 70, 90, 60}\n"
     ]
    }
   ],
   "source": [
    "employeeScore  = {100,90,80,70,60,50}\n",
    "print(employeeScore)"
   ]
  },
  {
   "cell_type": "code",
   "execution_count": 9,
   "id": "9b0aa2d0-5e7b-4d32-959f-3dd3bcaa3b6f",
   "metadata": {},
   "outputs": [
    {
     "ename": "TypeError",
     "evalue": "'set' object is not subscriptable",
     "output_type": "error",
     "traceback": [
      "\u001b[1;31m---------------------------------------------------------------------------\u001b[0m",
      "\u001b[1;31mTypeError\u001b[0m                                 Traceback (most recent call last)",
      "Cell \u001b[1;32mIn[9], line 1\u001b[0m\n\u001b[1;32m----> 1\u001b[0m \u001b[38;5;28mprint\u001b[39m(\u001b[43memployeeScore\u001b[49m\u001b[43m[\u001b[49m\u001b[38;5;241;43m0\u001b[39;49m\u001b[43m]\u001b[49m)\n",
      "\u001b[1;31mTypeError\u001b[0m: 'set' object is not subscriptable"
     ]
    }
   ],
   "source": [
    "print(employeeScore[0])"
   ]
  },
  {
   "cell_type": "code",
   "execution_count": 17,
   "id": "39674b69-2a49-46e5-b3f0-313982ced0f9",
   "metadata": {},
   "outputs": [],
   "source": [
    "employeeScore.update([40,30,40])"
   ]
  },
  {
   "cell_type": "code",
   "execution_count": 18,
   "id": "7c1dab69-b509-45a8-a08b-0040b21d28dd",
   "metadata": {},
   "outputs": [
    {
     "name": "stdout",
     "output_type": "stream",
     "text": [
      "{70, 80, '0', 90, 30, 100, 40, 50, 60, '4'}\n"
     ]
    }
   ],
   "source": [
    "print(employeeScore)"
   ]
  },
  {
   "cell_type": "code",
   "execution_count": 27,
   "id": "df9667b8-93ee-4089-be5c-2917d3a3fa9d",
   "metadata": {},
   "outputs": [],
   "source": [
    "employeeScore.remove('0')"
   ]
  },
  {
   "cell_type": "code",
   "execution_count": 28,
   "id": "f18f1da3-0c42-48f5-920b-655cb312ce9e",
   "metadata": {},
   "outputs": [
    {
     "name": "stdout",
     "output_type": "stream",
     "text": [
      "{70, 80, 90, 30, 100, 40, 50, 60}\n"
     ]
    }
   ],
   "source": [
    "print(employeeScore)"
   ]
  },
  {
   "cell_type": "code",
   "execution_count": 29,
   "id": "88aec12e-2ed7-4f5b-8965-98478f436f08",
   "metadata": {},
   "outputs": [
    {
     "name": "stdout",
     "output_type": "stream",
     "text": [
      "frozenset({80, 50, 100, 70, 90, 60})\n"
     ]
    }
   ],
   "source": [
    "employeeScore  = {100,90,80,70,60,50}\n",
    "finalemployeeScore  = frozenset(employeeScore)\n",
    "print(finalemployeeScore)"
   ]
  },
  {
   "cell_type": "code",
   "execution_count": 30,
   "id": "e3d421f9-2634-4aab-a5bc-6977d81acd01",
   "metadata": {
    "scrolled": true
   },
   "outputs": [
    {
     "ename": "KeyError",
     "evalue": "'90'",
     "output_type": "error",
     "traceback": [
      "\u001b[1;31m---------------------------------------------------------------------------\u001b[0m",
      "\u001b[1;31mKeyError\u001b[0m                                  Traceback (most recent call last)",
      "Cell \u001b[1;32mIn[30], line 1\u001b[0m\n\u001b[1;32m----> 1\u001b[0m \u001b[43memployeeScore\u001b[49m\u001b[38;5;241;43m.\u001b[39;49m\u001b[43mremove\u001b[49m\u001b[43m(\u001b[49m\u001b[38;5;124;43m'\u001b[39;49m\u001b[38;5;124;43m90\u001b[39;49m\u001b[38;5;124;43m'\u001b[39;49m\u001b[43m)\u001b[49m\n",
      "\u001b[1;31mKeyError\u001b[0m: '90'"
     ]
    }
   ],
   "source": [
    "employeeScore.remove('90')"
   ]
  },
  {
   "cell_type": "code",
   "execution_count": 31,
   "id": "02cbc513-27ce-4e53-a720-5a205c9a5b2a",
   "metadata": {},
   "outputs": [
    {
     "ename": "AttributeError",
     "evalue": "'frozenset' object has no attribute 'remove'",
     "output_type": "error",
     "traceback": [
      "\u001b[1;31m---------------------------------------------------------------------------\u001b[0m",
      "\u001b[1;31mAttributeError\u001b[0m                            Traceback (most recent call last)",
      "Cell \u001b[1;32mIn[31], line 1\u001b[0m\n\u001b[1;32m----> 1\u001b[0m \u001b[43mfinalemployeeScore\u001b[49m\u001b[38;5;241;43m.\u001b[39;49m\u001b[43mremove\u001b[49m(\u001b[38;5;124m'\u001b[39m\u001b[38;5;124m90\u001b[39m\u001b[38;5;124m'\u001b[39m)\n",
      "\u001b[1;31mAttributeError\u001b[0m: 'frozenset' object has no attribute 'remove'"
     ]
    }
   ],
   "source": [
    "finalemployeeScore.remove('90')"
   ]
  },
  {
   "cell_type": "code",
   "execution_count": 33,
   "id": "35a93f4e-4e2b-4be6-b5d2-271417ffab61",
   "metadata": {},
   "outputs": [
    {
     "name": "stdout",
     "output_type": "stream",
     "text": [
      "{'Anil', 'kumar', 'chaitu'}\n"
     ]
    }
   ],
   "source": [
    "employeeNames = {'Anil','kumar','chaitu'}\n",
    "print(employeeNames)"
   ]
  },
  {
   "cell_type": "code",
   "execution_count": 36,
   "id": "d155d02f-1363-4db8-a9a2-d70e22690210",
   "metadata": {},
   "outputs": [],
   "source": [
    "employeeNames.remove('Anil')"
   ]
  },
  {
   "cell_type": "code",
   "execution_count": 37,
   "id": "c72d4bc1-aeff-40c7-8a97-f17d64ba1ae8",
   "metadata": {},
   "outputs": [
    {
     "name": "stdout",
     "output_type": "stream",
     "text": [
      "{'kumar', 'chaitu'}\n"
     ]
    }
   ],
   "source": [
    "print(employeeNames)"
   ]
  },
  {
   "cell_type": "code",
   "execution_count": 40,
   "id": "70e9655c-9628-471b-be11-7c568780654f",
   "metadata": {},
   "outputs": [
    {
     "name": "stdout",
     "output_type": "stream",
     "text": [
      "{80, 50, 100, 70, 90, 60}\n"
     ]
    }
   ],
   "source": [
    "\n",
    "print(employeeScore)"
   ]
  },
  {
   "cell_type": "code",
   "execution_count": 42,
   "id": "22db4260-90dd-4f9f-89f0-4055eb5bbcde",
   "metadata": {},
   "outputs": [
    {
     "name": "stdout",
     "output_type": "stream",
     "text": [
      "{80, 50, 100, 70, 60}\n"
     ]
    }
   ],
   "source": [
    "employeeScore.remove(90)\n",
    "print(employeeScore)"
   ]
  },
  {
   "cell_type": "code",
   "execution_count": 2,
   "id": "4caa32c0-17ec-47f4-882a-108f3f859ecc",
   "metadata": {},
   "outputs": [],
   "source": [
    "employeeScore  = {'Ram':100,'Srinu':90}"
   ]
  },
  {
   "cell_type": "code",
   "execution_count": 3,
   "id": "a04d267d-02ed-4108-b4ac-c2c3fc05930e",
   "metadata": {},
   "outputs": [
    {
     "name": "stdout",
     "output_type": "stream",
     "text": [
      "{'Ram': 100, 'Srinu': 90}\n"
     ]
    }
   ],
   "source": [
    "print(employeeScore)"
   ]
  },
  {
   "cell_type": "code",
   "execution_count": 4,
   "id": "f5be3016-88d9-49fa-9c4e-5000c1d63294",
   "metadata": {},
   "outputs": [
    {
     "ename": "KeyError",
     "evalue": "'ram'",
     "output_type": "error",
     "traceback": [
      "\u001b[1;31m---------------------------------------------------------------------------\u001b[0m",
      "\u001b[1;31mKeyError\u001b[0m                                  Traceback (most recent call last)",
      "Cell \u001b[1;32mIn[4], line 1\u001b[0m\n\u001b[1;32m----> 1\u001b[0m \u001b[38;5;28mprint\u001b[39m(\u001b[43memployeeScore\u001b[49m\u001b[43m[\u001b[49m\u001b[38;5;124;43m'\u001b[39;49m\u001b[38;5;124;43mram\u001b[39;49m\u001b[38;5;124;43m'\u001b[39;49m\u001b[43m]\u001b[49m)\n",
      "\u001b[1;31mKeyError\u001b[0m: 'ram'"
     ]
    }
   ],
   "source": [
    "print(employeeScore['ram'])"
   ]
  },
  {
   "cell_type": "code",
   "execution_count": 5,
   "id": "140af3cf-f3dd-477b-9d54-0af8874d0ac7",
   "metadata": {},
   "outputs": [
    {
     "name": "stdout",
     "output_type": "stream",
     "text": [
      "100\n"
     ]
    }
   ],
   "source": [
    "print(employeeScore['Ram'])"
   ]
  },
  {
   "cell_type": "code",
   "execution_count": 6,
   "id": "ff902251-7bd4-472a-93f2-7207984f6534",
   "metadata": {},
   "outputs": [],
   "source": [
    "employeeScore['Hari'] = 80"
   ]
  },
  {
   "cell_type": "code",
   "execution_count": 7,
   "id": "e9ee70a2-61fd-4cfa-bf2d-9c9c34e82136",
   "metadata": {},
   "outputs": [
    {
     "name": "stdout",
     "output_type": "stream",
     "text": [
      "{'Ram': 100, 'Srinu': 90, 'Hari': 80}\n"
     ]
    }
   ],
   "source": [
    "print(employeeScore)"
   ]
  },
  {
   "cell_type": "code",
   "execution_count": 8,
   "id": "6e25a11b-09d2-40d9-b47e-bd6a08d11105",
   "metadata": {},
   "outputs": [],
   "source": [
    "employeeStatusActive = True"
   ]
  },
  {
   "cell_type": "code",
   "execution_count": 9,
   "id": "10a08de5-3f24-4a57-be4e-640fce950159",
   "metadata": {
    "scrolled": true
   },
   "outputs": [
    {
     "name": "stdout",
     "output_type": "stream",
     "text": [
      "True\n"
     ]
    }
   ],
   "source": [
    "print(employeeStatusActive)"
   ]
  },
  {
   "cell_type": "code",
   "execution_count": 10,
   "id": "1548456a-e7b9-444a-beeb-1b271046af9a",
   "metadata": {},
   "outputs": [
    {
     "name": "stdout",
     "output_type": "stream",
     "text": [
      "<class 'bool'>\n"
     ]
    }
   ],
   "source": [
    "print(type(employeeStatusActive))"
   ]
  },
  {
   "cell_type": "code",
   "execution_count": 11,
   "id": "8c59ac3e-6575-4bcb-80db-30aa6a1512a7",
   "metadata": {},
   "outputs": [],
   "source": [
    "employeeStatusActive = False"
   ]
  },
  {
   "cell_type": "code",
   "execution_count": 12,
   "id": "79113fce-2786-4624-b7c9-e3df8e8db47d",
   "metadata": {},
   "outputs": [
    {
     "name": "stdout",
     "output_type": "stream",
     "text": [
      "False\n"
     ]
    }
   ],
   "source": [
    "print(employeeStatusActive)"
   ]
  },
  {
   "cell_type": "code",
   "execution_count": 13,
   "id": "fc5a1bd1-0104-460c-a10c-cfe956e6e624",
   "metadata": {},
   "outputs": [
    {
     "name": "stdout",
     "output_type": "stream",
     "text": [
      "<class 'bool'>\n"
     ]
    }
   ],
   "source": [
    "print(type(employeeStatusActive))"
   ]
  },
  {
   "cell_type": "code",
   "execution_count": 15,
   "id": "b01a0fdf-ae27-42e2-b948-3381c57bd4a4",
   "metadata": {},
   "outputs": [
    {
     "name": "stdout",
     "output_type": "stream",
     "text": [
      "Employee is off boarded\n"
     ]
    }
   ],
   "source": [
    "if employeeStatusActive : \n",
    "\tprint('Employee is on boarded')\n",
    "else:\n",
    "\tprint('Employee is off boarded')"
   ]
  },
  {
   "cell_type": "code",
   "execution_count": 16,
   "id": "83022cdc-c12f-4608-bead-4d5b2185d473",
   "metadata": {},
   "outputs": [],
   "source": [
    "employeeStatusActive = True"
   ]
  },
  {
   "cell_type": "code",
   "execution_count": 17,
   "id": "e6a2d998-938f-46dd-8783-f6d1ab1d3039",
   "metadata": {},
   "outputs": [
    {
     "name": "stdout",
     "output_type": "stream",
     "text": [
      "Employee is on boarded\n"
     ]
    }
   ],
   "source": [
    "if employeeStatusActive : \n",
    "\tprint('Employee is on boarded')\n",
    "else:\n",
    "\tprint('Employee is off boarded')"
   ]
  },
  {
   "cell_type": "code",
   "execution_count": 24,
   "id": "fa9661e8-64d0-4cc1-a4d6-7b92c9602fe0",
   "metadata": {},
   "outputs": [],
   "source": [
    "employeeCertificationFee = 1000"
   ]
  },
  {
   "cell_type": "code",
   "execution_count": 19,
   "id": "2cee3553-5fa8-4a47-8737-6de32e529957",
   "metadata": {},
   "outputs": [],
   "source": [
    "discount = 100.10"
   ]
  },
  {
   "cell_type": "code",
   "execution_count": 27,
   "id": "6ca86df3-efde-47fc-83b4-03ed47ea2ff3",
   "metadata": {},
   "outputs": [],
   "source": [
    "employeeCertificationFee = employeeCertificationFee - discount"
   ]
  },
  {
   "cell_type": "code",
   "execution_count": 21,
   "id": "2b62198e-c855-4e34-8999-96540d1c57c9",
   "metadata": {},
   "outputs": [
    {
     "name": "stdout",
     "output_type": "stream",
     "text": [
      "899.9\n"
     ]
    }
   ],
   "source": [
    "print(employeeCertificationFee)"
   ]
  },
  {
   "cell_type": "code",
   "execution_count": 22,
   "id": "d3a3e987-39b2-4541-af29-df99a08fdc69",
   "metadata": {},
   "outputs": [
    {
     "name": "stdout",
     "output_type": "stream",
     "text": [
      "<class 'float'>\n"
     ]
    }
   ],
   "source": [
    "print(type(employeeCertificationFee))"
   ]
  },
  {
   "cell_type": "code",
   "execution_count": 25,
   "id": "08b9eb4c-99f9-48c5-b2db-68c998131fa2",
   "metadata": {},
   "outputs": [
    {
     "name": "stdout",
     "output_type": "stream",
     "text": [
      "<class 'int'>\n"
     ]
    }
   ],
   "source": [
    "print(type(employeeCertificationFee))"
   ]
  },
  {
   "cell_type": "code",
   "execution_count": 28,
   "id": "5320fb3a-43be-4a94-a6c7-b9a612a70882",
   "metadata": {},
   "outputs": [
    {
     "name": "stdout",
     "output_type": "stream",
     "text": [
      "<class 'float'>\n"
     ]
    }
   ],
   "source": [
    "print(type(employeeCertificationFee))"
   ]
  },
  {
   "cell_type": "code",
   "execution_count": 35,
   "id": "b178dd0c-2976-42df-878e-6b528695a3ca",
   "metadata": {},
   "outputs": [],
   "source": [
    "empCertificationFee = '1000.50'\n"
   ]
  },
  {
   "cell_type": "code",
   "execution_count": 30,
   "id": "d36bdd39-ac2c-4b7d-9e0d-cf333d0a947e",
   "metadata": {},
   "outputs": [
    {
     "name": "stdout",
     "output_type": "stream",
     "text": [
      "100.1\n"
     ]
    }
   ],
   "source": [
    "discount = 100.10\n",
    "print(discount)"
   ]
  },
  {
   "cell_type": "code",
   "execution_count": 31,
   "id": "8dfe1273-19f3-4f6a-bb56-9488dc501558",
   "metadata": {},
   "outputs": [
    {
     "name": "stdout",
     "output_type": "stream",
     "text": [
      "<class 'str'>\n"
     ]
    }
   ],
   "source": [
    "print(type(empCertificationFee))"
   ]
  },
  {
   "cell_type": "code",
   "execution_count": 32,
   "id": "7bfc345c-3ab5-4b9d-a29b-5596c3495b7a",
   "metadata": {},
   "outputs": [
    {
     "ename": "TypeError",
     "evalue": "unsupported operand type(s) for -: 'str' and 'float'",
     "output_type": "error",
     "traceback": [
      "\u001b[1;31m---------------------------------------------------------------------------\u001b[0m",
      "\u001b[1;31mTypeError\u001b[0m                                 Traceback (most recent call last)",
      "Cell \u001b[1;32mIn[32], line 1\u001b[0m\n\u001b[1;32m----> 1\u001b[0m empCertificationFee \u001b[38;5;241m=\u001b[39m \u001b[43mempCertificationFee\u001b[49m\u001b[43m \u001b[49m\u001b[38;5;241;43m-\u001b[39;49m\u001b[43m \u001b[49m\u001b[43mdiscount\u001b[49m\n",
      "\u001b[1;31mTypeError\u001b[0m: unsupported operand type(s) for -: 'str' and 'float'"
     ]
    }
   ],
   "source": [
    "empCertificationFee = empCertificationFee - discount"
   ]
  },
  {
   "cell_type": "code",
   "execution_count": 33,
   "id": "10e14f68-f021-4357-aa3a-e8624dcf78f3",
   "metadata": {},
   "outputs": [
    {
     "name": "stdout",
     "output_type": "stream",
     "text": [
      "<class 'float'>\n",
      "900.4\n"
     ]
    }
   ],
   "source": [
    "empCertificationFee = float(empCertificationFee) - discount\n",
    "print(type(empCertificationFee))\n",
    "print(empCertificationFee)"
   ]
  },
  {
   "cell_type": "code",
   "execution_count": 36,
   "id": "ffe4175d-3b35-46a2-b26c-7fa667ae8458",
   "metadata": {},
   "outputs": [
    {
     "ename": "ValueError",
     "evalue": "invalid literal for int() with base 10: '1000.50'",
     "output_type": "error",
     "traceback": [
      "\u001b[1;31m---------------------------------------------------------------------------\u001b[0m",
      "\u001b[1;31mValueError\u001b[0m                                Traceback (most recent call last)",
      "Cell \u001b[1;32mIn[36], line 1\u001b[0m\n\u001b[1;32m----> 1\u001b[0m empCertificationFee \u001b[38;5;241m=\u001b[39m \u001b[38;5;28;43mint\u001b[39;49m\u001b[43m(\u001b[49m\u001b[43mempCertificationFee\u001b[49m\u001b[43m)\u001b[49m \u001b[38;5;241m-\u001b[39m discount\n\u001b[0;32m      2\u001b[0m \u001b[38;5;28mprint\u001b[39m(\u001b[38;5;28mtype\u001b[39m(empCertificationFee))\n\u001b[0;32m      3\u001b[0m \u001b[38;5;28mprint\u001b[39m(empCertificationFee)\n",
      "\u001b[1;31mValueError\u001b[0m: invalid literal for int() with base 10: '1000.50'"
     ]
    }
   ],
   "source": [
    "empCertificationFee = int(empCertificationFee) - discount\n",
    "print(type(empCertificationFee))\n",
    "print(empCertificationFee)"
   ]
  },
  {
   "cell_type": "code",
   "execution_count": 37,
   "id": "3847c7bc-225f-4142-9b0c-32217879eb10",
   "metadata": {},
   "outputs": [
    {
     "ename": "SyntaxError",
     "evalue": "cannot assign to False (1160946929.py, line 1)",
     "output_type": "error",
     "traceback": [
      "\u001b[1;36m  Cell \u001b[1;32mIn[37], line 1\u001b[1;36m\u001b[0m\n\u001b[1;33m    False = 0\u001b[0m\n\u001b[1;37m    ^\u001b[0m\n\u001b[1;31mSyntaxError\u001b[0m\u001b[1;31m:\u001b[0m cannot assign to False\n"
     ]
    }
   ],
   "source": [
    "False = 0"
   ]
  },
  {
   "cell_type": "code",
   "execution_count": 39,
   "id": "8fce74a9-723d-4e4c-8e5d-c5eb304963da",
   "metadata": {},
   "outputs": [
    {
     "ename": "SyntaxError",
     "evalue": "invalid syntax (1212398762.py, line 1)",
     "output_type": "error",
     "traceback": [
      "\u001b[1;36m  Cell \u001b[1;32mIn[39], line 1\u001b[1;36m\u001b[0m\n\u001b[1;33m    def global():\u001b[0m\n\u001b[1;37m        ^\u001b[0m\n\u001b[1;31mSyntaxError\u001b[0m\u001b[1;31m:\u001b[0m invalid syntax\n"
     ]
    }
   ],
   "source": [
    "def global():\n",
    "\tprint('hello')\n"
   ]
  },
  {
   "cell_type": "code",
   "execution_count": 40,
   "id": "269b610e-7984-42b4-adbd-39d0f9587166",
   "metadata": {},
   "outputs": [],
   "source": [
    "def global_a():\n",
    "\tprint('hello')\n"
   ]
  },
  {
   "cell_type": "code",
   "execution_count": 41,
   "id": "6f7426f5-512d-4c16-b72d-6a156deb7e5e",
   "metadata": {},
   "outputs": [
    {
     "name": "stdout",
     "output_type": "stream",
     "text": [
      "hello\n"
     ]
    }
   ],
   "source": [
    "global_a()"
   ]
  },
  {
   "cell_type": "code",
   "execution_count": null,
   "id": "4c682d78-968c-495d-86b9-41425c08a0bb",
   "metadata": {},
   "outputs": [],
   "source": []
  }
 ],
 "metadata": {
  "kernelspec": {
   "display_name": "Python 3 (ipykernel)",
   "language": "python",
   "name": "python3"
  },
  "language_info": {
   "codemirror_mode": {
    "name": "ipython",
    "version": 3
   },
   "file_extension": ".py",
   "mimetype": "text/x-python",
   "name": "python",
   "nbconvert_exporter": "python",
   "pygments_lexer": "ipython3",
   "version": "3.12.1"
  }
 },
 "nbformat": 4,
 "nbformat_minor": 5
}
