{
 "cells": [
  {
   "cell_type": "code",
   "execution_count": 6,
   "id": "8137e80a-8018-4200-a135-6c24d36a335e",
   "metadata": {},
   "outputs": [
    {
     "name": "stdout",
     "output_type": "stream",
     "text": [
      "Your are allow to vote at your 19 's\n"
     ]
    }
   ],
   "source": [
    "# If statement\n",
    "user_age = 19\n",
    "if user_age >= 18:\n",
    "    print(\"Your are allow to vote at your %d\" %user_age, \"'s\")"
   ]
  },
  {
   "cell_type": "code",
   "execution_count": 8,
   "id": "bc8d85ee-a255-4ecb-9f65-45f7366dcb0f",
   "metadata": {},
   "outputs": [
    {
     "name": "stdin",
     "output_type": "stream",
     "text": [
      "Enter you age, to check voteing status 20\n"
     ]
    },
    {
     "name": "stdout",
     "output_type": "stream",
     "text": [
      "Your are allow to vote at your 20 's\n"
     ]
    }
   ],
   "source": [
    "# If ....  else statement\n",
    "user_age = int(input(\"Enter you age, to check voteing status\"))\n",
    "if user_age >= 18:\n",
    "    print(\"Your are allow to vote at your %d\" %user_age, \"'s\")\n",
    "else:\n",
    "    print(\"Your are not allow to vote at age %d\" %user_age, \"'s\")"
   ]
  },
  {
   "cell_type": "code",
   "execution_count": 9,
   "id": "c40311eb-24b0-443c-9d4c-52cfc2bbe338",
   "metadata": {},
   "outputs": [
    {
     "name": "stdin",
     "output_type": "stream",
     "text": [
      "Enter you age, to check voteing status 14\n"
     ]
    },
    {
     "name": "stdout",
     "output_type": "stream",
     "text": [
      "Your are not allow to vote at age 14 's\n"
     ]
    }
   ],
   "source": [
    "# If ....  else statement\n",
    "user_age = int(input(\"Enter you age, to check voteing status\"))\n",
    "if user_age >= 18:\n",
    "    print(\"Your are allow to vote at your %d\" %user_age, \"'s\")\n",
    "else:\n",
    "    print(\"Your are not allow to vote at age %d\" %user_age, \"'s\")"
   ]
  },
  {
   "cell_type": "code",
   "execution_count": 18,
   "id": "aa662c02-7bc6-4244-870c-75a1712f36fa",
   "metadata": {},
   "outputs": [
    {
     "name": "stdin",
     "output_type": "stream",
     "text": [
      "Enter the Month 13\n",
      "Plese enteer valid month 12\n"
     ]
    }
   ],
   "source": [
    "# If ....  elif .... else statement\n",
    "month = int(input(\"Enter the Month\"))\n",
    "if month == 2:\n",
    "    print(f\"For the given month {month} the days is\", 28)\n",
    "elif month in [3,5,7,9,11]:\n",
    "    print(f\"For the given month {month} the days is\", 31)\n",
    "elif month in [4,6,8,10,12]:\n",
    "    print(f\"For the given month {month} the days is\", 30)\n",
    "else:\n",
    "    month = int(input(\"Plese enter valid month\"))"
   ]
  },
  {
   "cell_type": "code",
   "execution_count": null,
   "id": "d9c4cbf5-6b26-4c68-b05a-664dee653fa8",
   "metadata": {},
   "outputs": [],
   "source": [
    "# while loop execute code as long as condition is True\n",
    "numbers = 10\n",
    "increment = 1\n",
    "while increment >= numbers:\n",
    "    increment += 1\n",
    "    print(increment)\n",
    "else:\n",
    "    print(\"checking code is executing or not\")"
   ]
  },
  {
   "cell_type": "code",
   "execution_count": null,
   "id": "f5d9772f-89e6-473b-88c8-9b780b957160",
   "metadata": {},
   "outputs": [],
   "source": [
    "# If ....  elif .... else statement\n",
    "month = int(input(\"Enter the Month\"))\n",
    "if month == 2:\n",
    "    print(f\"For the given month {month} the days is\", 28)\n",
    "elif month in [3,5,7,9,11]:\n",
    "    print(f\"For the given month {month} the days is\", 31)\n",
    "elif month in [4,6,8,10,12]:\n",
    "    print(f\"For the given month {month} the days is\", 30)\n",
    "else:\n",
    "    month = int(input(\"Plese enter valid month\"))"
   ]
  },
  {
   "cell_type": "code",
   "execution_count": null,
   "id": "42d513cf-cff4-4dd8-b10e-9c79d21c630a",
   "metadata": {},
   "outputs": [],
   "source": []
  }
 ],
 "metadata": {
  "kernelspec": {
   "display_name": "Python 3 (ipykernel)",
   "language": "python",
   "name": "python3"
  },
  "language_info": {
   "codemirror_mode": {
    "name": "ipython",
    "version": 3
   },
   "file_extension": ".py",
   "mimetype": "text/x-python",
   "name": "python",
   "nbconvert_exporter": "python",
   "pygments_lexer": "ipython3",
   "version": "3.12.1"
  }
 },
 "nbformat": 4,
 "nbformat_minor": 5
}
