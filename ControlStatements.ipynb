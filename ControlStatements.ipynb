{
 "cells": [
  {
   "cell_type": "code",
   "execution_count": 6,
   "id": "8137e80a-8018-4200-a135-6c24d36a335e",
   "metadata": {},
   "outputs": [
    {
     "name": "stdout",
     "output_type": "stream",
     "text": [
      "Your are allow to vote at your 19 's\n"
     ]
    }
   ],
   "source": [
    "# If statement\n",
    "user_age = 19\n",
    "if user_age >= 18:\n",
    "    print(\"Your are allow to vote at your %d\" %user_age, \"'s\")"
   ]
  },
  {
   "cell_type": "code",
   "execution_count": 8,
   "id": "bc8d85ee-a255-4ecb-9f65-45f7366dcb0f",
   "metadata": {},
   "outputs": [
    {
     "name": "stdin",
     "output_type": "stream",
     "text": [
      "Enter you age, to check voteing status 20\n"
     ]
    },
    {
     "name": "stdout",
     "output_type": "stream",
     "text": [
      "Your are allow to vote at your 20 's\n"
     ]
    }
   ],
   "source": [
    "# If ....  else statement\n",
    "user_age = int(input(\"Enter you age, to check voteing status\"))\n",
    "if user_age >= 18:\n",
    "    print(\"Your are allow to vote at your %d\" %user_age, \"'s\")\n",
    "else:\n",
    "    print(\"Your are not allow to vote at age %d\" %user_age, \"'s\")"
   ]
  },
  {
   "cell_type": "code",
   "execution_count": 9,
   "id": "c40311eb-24b0-443c-9d4c-52cfc2bbe338",
   "metadata": {},
   "outputs": [
    {
     "name": "stdin",
     "output_type": "stream",
     "text": [
      "Enter you age, to check voteing status 14\n"
     ]
    },
    {
     "name": "stdout",
     "output_type": "stream",
     "text": [
      "Your are not allow to vote at age 14 's\n"
     ]
    }
   ],
   "source": [
    "# If ....  else statement\n",
    "user_age = int(input(\"Enter you age, to check voteing status\"))\n",
    "if user_age >= 18:\n",
    "    print(\"Your are allow to vote at your %d\" %user_age, \"'s\")\n",
    "else:\n",
    "    print(\"Your are not allow to vote at age %d\" %user_age, \"'s\")"
   ]
  },
  {
   "cell_type": "code",
   "execution_count": 18,
   "id": "aa662c02-7bc6-4244-870c-75a1712f36fa",
   "metadata": {},
   "outputs": [
    {
     "name": "stdin",
     "output_type": "stream",
     "text": [
      "Enter the Month 13\n",
      "Plese enteer valid month 12\n"
     ]
    }
   ],
   "source": [
    "# If ....  elif .... else statement\n",
    "month = int(input(\"Enter the Month\"))\n",
    "if month == 2:\n",
    "    print(f\"For the given month {month} the days is\", 28)\n",
    "elif month in [3,5,7,9,11]:\n",
    "    print(f\"For the given month {month} the days is\", 31)\n",
    "elif month in [4,6,8,10,12]:\n",
    "    print(f\"For the given month {month} the days is\", 30)\n",
    "else:\n",
    "    month = int(input(\"Plese enter valid month\"))"
   ]
  },
  {
   "cell_type": "code",
   "execution_count": 1,
   "id": "d9c4cbf5-6b26-4c68-b05a-664dee653fa8",
   "metadata": {},
   "outputs": [
    {
     "name": "stdout",
     "output_type": "stream",
     "text": [
      "checking code is executing or not\n"
     ]
    }
   ],
   "source": [
    "# while loop execute code as long as condition is True\n",
    "numbers = 10\n",
    "increment = 1\n",
    "while increment >= numbers:\n",
    "    increment += 1\n",
    "    print(increment)\n",
    "else:\n",
    "    print(\"checking code is executing or not\")"
   ]
  },
  {
   "cell_type": "code",
   "execution_count": null,
   "id": "f5d9772f-89e6-473b-88c8-9b780b957160",
   "metadata": {},
   "outputs": [],
   "source": [
    "# If ....  elif .... else statement\n",
    "month = int(input(\"Enter the Month\"))\n",
    "if month == 2:\n",
    "    print(f\"For the given month {month} the days is\", 28)\n",
    "elif month in [3,5,7,9,11]:\n",
    "    print(f\"For the given month {month} the days is\", 31)\n",
    "elif month in [4,6,8,10,12]:\n",
    "    print(f\"For the given month {month} the days is\", 30)\n",
    "else:\n",
    "    month = int(input(\"Plese enter valid month\"))"
   ]
  },
  {
   "cell_type": "code",
   "execution_count": 2,
   "id": "42d513cf-cff4-4dd8-b10e-9c79d21c630a",
   "metadata": {},
   "outputs": [
    {
     "name": "stdout",
     "output_type": "stream",
     "text": [
      "Day  1 attendance count is : 18\n",
      "Day  2 attendance count is : 12\n",
      "Day  3 attendance count is : 15\n",
      "Day  4 attendance count is : 5\n",
      "Day  5 attendance count is : 20\n",
      "Day  6 attendance count is : 10\n",
      "Day  7 attendance count is : 87\n",
      "Day  8 attendance count is : 12\n"
     ]
    }
   ],
   "source": [
    "attendance = [18,12,15,5,20,10,87,12]\n",
    "day = 1\n",
    "for element in attendance:\n",
    "    print(\"Day \",day, 'attendance count is :',element)\n",
    "    day = day + 1\n"
   ]
  },
  {
   "cell_type": "code",
   "execution_count": 14,
   "id": "822b667b-5659-4dc2-950c-3f49dc5e1198",
   "metadata": {
    "scrolled": true
   },
   "outputs": [
    {
     "name": "stdout",
     "output_type": "stream",
     "text": [
      "2\n",
      "4\n",
      "6\n",
      "8\n",
      "10\n",
      "Else suid is completed\n"
     ]
    }
   ],
   "source": [
    "#for loop:\n",
    "for value in range(1, 10, 2):\n",
    "    print(value+1)\n",
    "else:\n",
    "    print(\"Else suid is completed\")\n"
   ]
  },
  {
   "cell_type": "code",
   "execution_count": 4,
   "id": "8b579b5c-500b-41a8-ac6b-d5f849a6b22b",
   "metadata": {},
   "outputs": [
    {
     "name": "stdin",
     "output_type": "stream",
     "text": [
      "Enter table number 12\n"
     ]
    },
    {
     "name": "stdout",
     "output_type": "stream",
     "text": [
      "12  *  1  =  12\n",
      "12  *  2  =  24\n",
      "12  *  3  =  36\n",
      "12  *  4  =  48\n",
      "12  *  5  =  60\n",
      "12  *  6  =  72\n",
      "12  *  7  =  84\n",
      "12  *  8  =  96\n",
      "12  *  9  =  108\n",
      "12  *  10  =  120\n",
      "12  *  11  =  132\n",
      "12  *  12  =  144\n",
      "12  *  13  =  156\n",
      "12  *  14  =  168\n",
      "12  *  15  =  180\n",
      "12  *  16  =  192\n",
      "12  *  17  =  204\n",
      "12  *  18  =  216\n",
      "12  *  19  =  228\n",
      "12  *  20  =  240\n",
      "Completed printing the table 12\n"
     ]
    }
   ],
   "source": [
    "incrementTill = 20\n",
    "incrementBy = 1\n",
    "forTable = int(input(\"Enter table number\"))\n",
    "while incrementBy <= incrementTill:\n",
    "    print(forTable,' * ',incrementBy,' = ',(forTable * incrementBy))\n",
    "    incrementBy = incrementBy + 1\n",
    "else:\n",
    "    print(f\"Completed printing the table {forTable}\")"
   ]
  },
  {
   "cell_type": "code",
   "execution_count": 11,
   "id": "7656b2d2-9506-45e3-ab9f-5b42e87c3472",
   "metadata": {},
   "outputs": [
    {
     "name": "stdout",
     "output_type": "stream",
     "text": [
      "0\n",
      "1\n",
      "2\n",
      "3\n",
      "4\n",
      "5\n"
     ]
    }
   ],
   "source": [
    "#break statement:\n",
    "for value in range(10):\n",
    "    print(value)\n",
    "    if value >= 5:\n",
    "        break\n",
    "    "
   ]
  },
  {
   "cell_type": "code",
   "execution_count": 13,
   "id": "94144a5b-5d13-4a84-b96d-86f965edbeee",
   "metadata": {},
   "outputs": [
    {
     "name": "stdout",
     "output_type": "stream",
     "text": [
      "1\n",
      "2\n",
      "3\n",
      "4\n",
      "5\n",
      "6\n"
     ]
    }
   ],
   "source": [
    "#break statement\n",
    "value = 1\n",
    "status = True \n",
    "while status:\n",
    "    print(value) \n",
    "    if value>5:\n",
    "        break\n",
    "    value+=1 "
   ]
  },
  {
   "cell_type": "code",
   "execution_count": null,
   "id": "fbde03ba-9b80-42dc-8f69-425816b22b64",
   "metadata": {},
   "outputs": [],
   "source": [
    "#continue statement\n",
    "incrementTill = 20\n",
    "incrementBy = 1\n",
    "forTable = int(input(\"Enter table number\"))\n",
    "while incrementBy <= incrementTill:\n",
    "    if incrementBy >= 5:\n",
    "        \n",
    "        continue\n",
    "    print(forTable,' * ',incrementBy,' = ',(forTable * incrementBy))\n",
    "    incrementBy = incrementBy + 1"
   ]
  },
  {
   "cell_type": "code",
   "execution_count": null,
   "id": "20e482a5-e1d2-4a8f-98f4-5f7a1c422cd7",
   "metadata": {},
   "outputs": [],
   "source": []
  }
 ],
 "metadata": {
  "kernelspec": {
   "display_name": "Python 3 (ipykernel)",
   "language": "python",
   "name": "python3"
  },
  "language_info": {
   "codemirror_mode": {
    "name": "ipython",
    "version": 3
   },
   "file_extension": ".py",
   "mimetype": "text/x-python",
   "name": "python",
   "nbconvert_exporter": "python",
   "pygments_lexer": "ipython3",
   "version": "3.12.1"
  }
 },
 "nbformat": 4,
 "nbformat_minor": 5
}
