{
 "cells": [
  {
   "cell_type": "code",
   "execution_count": 1,
   "id": "21252879-0482-4765-a3c0-c5b2bc0f099c",
   "metadata": {},
   "outputs": [],
   "source": [
    "rollNumber = 54321"
   ]
  },
  {
   "cell_type": "code",
   "execution_count": 2,
   "id": "c82628c3-ad95-4a26-9cd6-00851c94d8df",
   "metadata": {},
   "outputs": [
    {
     "name": "stdout",
     "output_type": "stream",
     "text": [
      "54321\n"
     ]
    }
   ],
   "source": [
    "print(rollNumber)"
   ]
  },
  {
   "cell_type": "code",
   "execution_count": 4,
   "id": "d6d0c835-9858-4b13-888c-d003381688c5",
   "metadata": {},
   "outputs": [],
   "source": [
    "rollNumber = 54321"
   ]
  },
  {
   "cell_type": "code",
   "execution_count": 7,
   "id": "52956bfd-36a9-412a-be9a-6b17748f4d04",
   "metadata": {},
   "outputs": [],
   "source": [
    "studentName = None"
   ]
  },
  {
   "cell_type": "code",
   "execution_count": 8,
   "id": "a21ad541-391c-4431-9421-5a92bbddf4b7",
   "metadata": {},
   "outputs": [],
   "source": [
    "Total = None"
   ]
  },
  {
   "cell_type": "code",
   "execution_count": 9,
   "id": "406f8a99-9419-4fb4-950c-866ad63c29fd",
   "metadata": {},
   "outputs": [],
   "source": [
    "Computers = 70\n",
    "Maths = 90"
   ]
  },
  {
   "cell_type": "code",
   "execution_count": 10,
   "id": "f5f5dd24-83b7-4950-af80-9a588a80a1e4",
   "metadata": {},
   "outputs": [
    {
     "name": "stdout",
     "output_type": "stream",
     "text": [
      "160\n"
     ]
    }
   ],
   "source": [
    "Total = Computers + Maths\n",
    "print(Total)"
   ]
  },
  {
   "cell_type": "code",
   "execution_count": 11,
   "id": "e1c88105-104f-43ae-9ebd-7ee35616f1a8",
   "metadata": {},
   "outputs": [
    {
     "name": "stdout",
     "output_type": "stream",
     "text": [
      "None\n"
     ]
    }
   ],
   "source": [
    "Total = None\n",
    "print(Total)"
   ]
  },
  {
   "cell_type": "code",
   "execution_count": null,
   "id": "2aefe69f-e504-4cdc-a4c2-70fad24251d2",
   "metadata": {},
   "outputs": [],
   "source": []
  }
 ],
 "metadata": {
  "kernelspec": {
   "display_name": "Python 3 (ipykernel)",
   "language": "python",
   "name": "python3"
  },
  "language_info": {
   "codemirror_mode": {
    "name": "ipython",
    "version": 3
   },
   "file_extension": ".py",
   "mimetype": "text/x-python",
   "name": "python",
   "nbconvert_exporter": "python",
   "pygments_lexer": "ipython3",
   "version": "3.12.1"
  }
 },
 "nbformat": 4,
 "nbformat_minor": 5
}
