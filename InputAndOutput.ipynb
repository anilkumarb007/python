{
 "cells": [
  {
   "cell_type": "code",
   "execution_count": 1,
   "id": "b8e432dd-a1d9-48bf-9476-22cdf34bffa5",
   "metadata": {},
   "outputs": [
    {
     "name": "stdin",
     "output_type": "stream",
     "text": [
      "Enter your name:  Anil kumar\n",
      "Enter Salary 10000000\n"
     ]
    }
   ],
   "source": [
    "employee_name = input(\"Enter your name: \")\n",
    "employee_salary = input(\"Enter Salary\")"
   ]
  },
  {
   "cell_type": "code",
   "execution_count": 2,
   "id": "687ae731-6c49-4ebe-b9f7-d7c7a3fcadec",
   "metadata": {},
   "outputs": [
    {
     "name": "stdout",
     "output_type": "stream",
     "text": [
      "Welcome to Python  Anil kumar\n",
      "Entered Salary is :  10000000\n"
     ]
    }
   ],
   "source": [
    "print(\"Welcome to Python \", employee_name)\n",
    "print(\"Entered Salary is : \", employee_salary)"
   ]
  },
  {
   "cell_type": "code",
   "execution_count": 8,
   "id": "7eaaf875-aff5-4135-aec8-e900684491df",
   "metadata": {},
   "outputs": [
    {
     "name": "stdout",
     "output_type": "stream",
     "text": [
      "Name: Anil Age: 30\n",
      "Name: Anil, Age: 30\n",
      "Name: Anil, Age: 30 123\n",
      "Name: Anil, Age: 30\n",
      "Name: Anil, Age: 30\n",
      "Anil 30\n",
      "Anil>>>>30\n",
      "Anil 30\t"
     ]
    }
   ],
   "source": [
    "name, age  = \"Anil\", 30 \n",
    "print(\"Name:\", name, \"Age:\", age) # Using Commas \n",
    "print(\"Name: \" + name + \", Age: \" + str(age)) # Using + Operator for string concat\n",
    "print(\"Name: {}, Age: {} {}\".format(name, age, 123)) # Using the format() method\n",
    "print(f\"Name: {name}, Age: {age}\")# Using Formatted String Literals) - Python 3.6+\n",
    "print(\"Name: %s, Age: %d\" % (name, age)) # Using % Operator for formatting string\n",
    "print(name, age)\n",
    "print(name, age, sep='>>>>') # Using separated attribute for formatting string\n",
    "print(name, age, end='\\n') # Using end attribute for formatting string"
   ]
  },
  {
   "cell_type": "code",
   "execution_count": null,
   "id": "6ad9405d-c4a5-4a25-8ff2-6a3a1d2ac808",
   "metadata": {},
   "outputs": [],
   "source": []
  }
 ],
 "metadata": {
  "kernelspec": {
   "display_name": "Python 3 (ipykernel)",
   "language": "python",
   "name": "python3"
  },
  "language_info": {
   "codemirror_mode": {
    "name": "ipython",
    "version": 3
   },
   "file_extension": ".py",
   "mimetype": "text/x-python",
   "name": "python",
   "nbconvert_exporter": "python",
   "pygments_lexer": "ipython3",
   "version": "3.12.1"
  }
 },
 "nbformat": 4,
 "nbformat_minor": 5
}
