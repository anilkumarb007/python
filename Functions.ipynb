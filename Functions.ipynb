{
 "cells": [
  {
   "cell_type": "code",
   "execution_count": 3,
   "id": "bfcb3600-a4fc-4096-b026-2059c96bedcd",
   "metadata": {},
   "outputs": [],
   "source": [
    "employeeSalary = 150000\n",
    "hikeValue = 150000*15/100\n",
    "def updateSalary(slarary, hike):\n",
    "    takeHomeAmount = slarary + hike\n",
    "    return takeHomeAmount"
   ]
  },
  {
   "cell_type": "code",
   "execution_count": 4,
   "id": "08c5628f-1f71-4931-a6d1-09c585c5f6ad",
   "metadata": {},
   "outputs": [
    {
     "data": {
      "text/plain": [
       "172500.0"
      ]
     },
     "execution_count": 4,
     "metadata": {},
     "output_type": "execute_result"
    }
   ],
   "source": [
    "updateSalary(employeeSalary, hikeValue)"
   ]
  },
  {
   "cell_type": "code",
   "execution_count": 5,
   "id": "424f0749-d13d-4526-8f1a-6c9a760cfeb0",
   "metadata": {},
   "outputs": [],
   "source": [
    "employeeSalary = 150000\n",
    "hikeValue = 150000*15/100\n",
    "def updateSalary(slarary, hike):\n",
    "    takeHomeAmount = slarary + hike"
   ]
  },
  {
   "cell_type": "code",
   "execution_count": 7,
   "id": "03befd8a-c5cb-49c6-85aa-987fd68dc228",
   "metadata": {},
   "outputs": [
    {
     "name": "stdout",
     "output_type": "stream",
     "text": [
      "None\n"
     ]
    }
   ],
   "source": [
    "print(updateSalary(employeeSalary, hikeValue))"
   ]
  },
  {
   "cell_type": "code",
   "execution_count": 8,
   "id": "656f736b-4f8c-470a-a9c6-37862e6c65da",
   "metadata": {},
   "outputs": [],
   "source": [
    "employeeSalary = 150000\n",
    "hikeValue = 150000*15/100\n",
    "def updateSalary(slarary, hike):\n",
    "    takeHomeAmount = slarary + hike\n",
    "    print(takeHomeAmount)"
   ]
  },
  {
   "cell_type": "code",
   "execution_count": 13,
   "id": "4bdef8f1-4d6f-41af-9fe1-0c5a94723d3d",
   "metadata": {},
   "outputs": [
    {
     "data": {
      "text/plain": [
       "172500.0"
      ]
     },
     "execution_count": 13,
     "metadata": {},
     "output_type": "execute_result"
    }
   ],
   "source": [
    "updateSalary(a, b)"
   ]
  },
  {
   "cell_type": "code",
   "execution_count": 23,
   "id": "cb166143-df81-4674-ba3f-c9f75d5f5e8d",
   "metadata": {},
   "outputs": [],
   "source": [
    "employeeSalary = 1500000\n",
    "def updateSalary(slarary=500000, hike=15):\n",
    "    hike = slarary*hike/100\n",
    "    takeHomeAmount = slarary + hike\n",
    "    return takeHomeAmount"
   ]
  },
  {
   "cell_type": "code",
   "execution_count": 21,
   "id": "cafaa332-deae-414f-9a06-a445d2635239",
   "metadata": {},
   "outputs": [
    {
     "data": {
      "text/plain": [
       "550000.0"
      ]
     },
     "execution_count": 21,
     "metadata": {},
     "output_type": "execute_result"
    }
   ],
   "source": [
    "updateSalary()"
   ]
  },
  {
   "cell_type": "code",
   "execution_count": 24,
   "id": "a6407669-543a-42d2-bfca-bd2cb3ff1464",
   "metadata": {},
   "outputs": [
    {
     "data": {
      "text/plain": [
       "1725000.0"
      ]
     },
     "execution_count": 24,
     "metadata": {},
     "output_type": "execute_result"
    }
   ],
   "source": [
    "updateSalary(employeeSalary,15)"
   ]
  },
  {
   "cell_type": "code",
   "execution_count": 25,
   "id": "0a673de4-fe7b-4b89-8732-2a714396e02b",
   "metadata": {},
   "outputs": [
    {
     "data": {
      "text/plain": [
       "1150000.0"
      ]
     },
     "execution_count": 25,
     "metadata": {},
     "output_type": "execute_result"
    }
   ],
   "source": [
    "updateSalary(hike=15,slarary= 1000000)"
   ]
  },
  {
   "cell_type": "code",
   "execution_count": 27,
   "id": "41b45871-3724-4647-a45b-19e30fc0962b",
   "metadata": {},
   "outputs": [
    {
     "data": {
      "text/plain": [
       "225015.0"
      ]
     },
     "execution_count": 27,
     "metadata": {},
     "output_type": "execute_result"
    }
   ],
   "source": [
    "updateSalary(15,1500000)"
   ]
  },
  {
   "cell_type": "code",
   "execution_count": 28,
   "id": "4267d8da-14c6-4590-bcf0-f1d0d938f0e4",
   "metadata": {},
   "outputs": [
    {
     "data": {
      "text/plain": [
       "1150000.0"
      ]
     },
     "execution_count": 28,
     "metadata": {},
     "output_type": "execute_result"
    }
   ],
   "source": [
    "updateSalary(hike=15,slarary= 1000000)"
   ]
  },
  {
   "cell_type": "code",
   "execution_count": 32,
   "id": "6c44692f-7723-4da6-aa46-ca3b47d36575",
   "metadata": {},
   "outputs": [],
   "source": [
    "def empName(firstName: str, lastName : str) -> str:\n",
    "    fullName = firstName + lastName\n",
    "    print(fullName)"
   ]
  },
  {
   "cell_type": "code",
   "execution_count": 30,
   "id": "e8b7cdbc-2e52-4233-8824-d83fb0f9ee2a",
   "metadata": {},
   "outputs": [
    {
     "name": "stdout",
     "output_type": "stream",
     "text": [
      "RamCharan\n"
     ]
    }
   ],
   "source": [
    "empName('Ram', 'Charan')"
   ]
  },
  {
   "cell_type": "code",
   "execution_count": 33,
   "id": "b601313d-6c81-4ac1-b7c9-f7be9c1c80eb",
   "metadata": {},
   "outputs": [
    {
     "name": "stdout",
     "output_type": "stream",
     "text": [
      "2000\n"
     ]
    }
   ],
   "source": [
    "empName(1000, 1000)"
   ]
  },
  {
   "cell_type": "code",
   "execution_count": 35,
   "id": "bde83614-c435-41e1-9460-d5d0a02a663e",
   "metadata": {},
   "outputs": [
    {
     "data": {
      "text/plain": [
       "' code block or set of statements for complete the task '"
      ]
     },
     "execution_count": 35,
     "metadata": {},
     "output_type": "execute_result"
    }
   ],
   "source": [
    "def function_name():\n",
    "    \"\"\" ******code block or set of statements for complete the task****\n",
    "    ******code block or set of statements for complete the task****\n",
    "    \"\"\"\n",
    "    return 1\n",
    "function_name.__doc__"
   ]
  },
  {
   "cell_type": "code",
   "execution_count": null,
   "id": "a7f30266-dd1e-429b-a111-2644851a410f",
   "metadata": {},
   "outputs": [],
   "source": []
  }
 ],
 "metadata": {
  "kernelspec": {
   "display_name": "Python 3 (ipykernel)",
   "language": "python",
   "name": "python3"
  },
  "language_info": {
   "codemirror_mode": {
    "name": "ipython",
    "version": 3
   },
   "file_extension": ".py",
   "mimetype": "text/x-python",
   "name": "python",
   "nbconvert_exporter": "python",
   "pygments_lexer": "ipython3",
   "version": "3.12.1"
  }
 },
 "nbformat": 4,
 "nbformat_minor": 5
}
